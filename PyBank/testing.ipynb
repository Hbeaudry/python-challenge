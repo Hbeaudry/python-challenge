{
 "cells": [
  {
   "cell_type": "code",
   "execution_count": 27,
   "id": "b0550169-5f8e-43fa-b01b-66cefb6ff7ba",
   "metadata": {},
   "outputs": [],
   "source": [
    "import csv\n",
    "from pathlib import Path"
   ]
  },
  {
   "cell_type": "code",
   "execution_count": 28,
   "id": "fee63423-b593-4b55-bc68-ef26fe1896d1",
   "metadata": {},
   "outputs": [
    {
     "name": "stdout",
     "output_type": "stream",
     "text": [
      "budget_data.csv\n"
     ]
    }
   ],
   "source": [
    "input_file = Path('./budget_data.csv')\n",
    "print(input_file)"
   ]
  },
  {
   "cell_type": "code",
   "execution_count": 29,
   "id": "1fdb8b99-0ba3-46a5-b7a1-a3fce7363ab7",
   "metadata": {},
   "outputs": [],
   "source": [
    "total_months = 0\n",
    "month_of_change = []\n",
    "net_changes_list = []\n",
    "greatest_increase = ['', 0]\n",
    "greatest_decrease = ['', 999999999999]\n",
    "total_net = 0"
   ]
  },
  {
   "cell_type": "code",
   "execution_count": 30,
   "id": "2766fe6c-67e5-40c3-8805-92b51d65efbc",
   "metadata": {},
   "outputs": [
    {
     "name": "stdout",
     "output_type": "stream",
     "text": [
      "total net = 867884\n",
      "[116771, -662642, -391430, 379920, 212354, 510239, -428211, -821271, 693918, 416278, -974163, 860159, -1115009, 1033048, 95318, -308093, 99052, -521393, 605450, 231727, -65187, -702716, 177975, -1065544, 1926159, -917805, 898730, -334262, -246499, -64055, -1529236, 1497596, 304914, -635801, 398319, -183161, -37864, -253689, 403655, 94168, 306877, -83000, 210462, -2196167, 1465222, -956983, 1838447, -468003, -64602, 206242, -242155, -449079, 315198, 241099, 111540, 365942, -219310, -368665, 409837, 151210, -110244, -341938, -1212159, 683246, -70825, 335594, 417334, -272194, -236462, 657432, -211262, -128237, -1750387, 925441, 932089, -311434, 267252, -1876758, 1733696, 198551, -665765, 693229, -734926, 77242, 532869]\n",
      "-2315\n",
      "['Feb-2017', [116771, -662642, -391430, 379920, 212354, 510239, -428211, -821271, 693918, 416278, -974163, 860159, -1115009, 1033048, 95318, -308093, 99052, -521393, 605450, 231727, -65187, -702716, 177975, -1065544, 1926159, -917805, 898730, -334262, -246499, -64055, -1529236, 1497596, 304914, -635801, 398319, -183161, -37864, -253689, 403655, 94168, 306877, -83000, 210462, -2196167, 1465222, -956983, 1838447, -468003, -64602, 206242, -242155, -449079, 315198, 241099, 111540, 365942, -219310, -368665, 409837, 151210, -110244, -341938, -1212159, 683246, -70825, 335594, 417334, -272194, -236462, 657432, -211262, -128237, -1750387, 925441, 932089, -311434, 267252, -1876758, 1733696, 198551, -665765, 693229, -734926, 77242, 532869]]\n"
     ]
    }
   ],
   "source": [
    "with open(input_file) as data:\n",
    "    reader = csv.reader(data)\n",
    "    \n",
    "    header = next(reader)\n",
    "    \n",
    "    first_row = next(reader)\n",
    "    total_months += 1\n",
    "    \n",
    "    total_net = total_net + int(first_row[1])\n",
    "    prev_net = int(first_row[1])\n",
    "    \n",
    "    print(f'total net = {total_net}')\n",
    "    \n",
    "    for row in reader:\n",
    "        total_months += 1\n",
    "        total_net = total_net + int(row[1])\n",
    "        \n",
    "    # track the net change\n",
    "        net_changes = int(row[1]) - prev_net\n",
    "        # print(net_changes)\n",
    "        prev_net = int(row[1])\n",
    "        net_changes_list = net_changes_list + [net_changes]\n",
    "    print(net_changes_list)\n",
    "    \n",
    "    # average\n",
    "    average = round(sum(net_changes_list) / len(net_changes_list))\n",
    "    print(average)\n",
    "    \n",
    "    #calculate the greatest increase\n",
    "    \n",
    "    if net_changes > 0:\n",
    "        greatest_increase[0] = row[0]\n",
    "        greatest_increase[1] = net_changes_list\n",
    "    elif net_changes < 0:\n",
    "        greatest_decrease[0] = row[0]\n",
    "        \n",
    "    print(greatest_increase)"
   ]
  },
  {
   "cell_type": "code",
   "execution_count": null,
   "id": "a8967aea-ff70-4878-8cb7-76fdf36e42bf",
   "metadata": {},
   "outputs": [],
   "source": []
  }
 ],
 "metadata": {
  "kernelspec": {
   "display_name": "Python 3 (ipykernel)",
   "language": "python",
   "name": "python3"
  },
  "language_info": {
   "codemirror_mode": {
    "name": "ipython",
    "version": 3
   },
   "file_extension": ".py",
   "mimetype": "text/x-python",
   "name": "python",
   "nbconvert_exporter": "python",
   "pygments_lexer": "ipython3",
   "version": "3.10.10"
  }
 },
 "nbformat": 4,
 "nbformat_minor": 5
}
